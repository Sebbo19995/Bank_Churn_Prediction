{
 "cells": [
  {
   "cell_type": "code",
   "execution_count": 15,
   "id": "5f84a1b7",
   "metadata": {},
   "outputs": [],
   "source": [
    "import pandas as pd\n",
    "import matplotlib.pyplot as plt\n",
    "import seaborn as sns\n",
    "import keras\n",
    "from matplotlib import rcParams\n",
    "from numpy import mean\n",
    "from numpy import std\n",
    "from keras.models import Sequential\n",
    "from keras.layers import Dense\n",
    "from keras.layers import Flatten\n",
    "from keras.layers import Dropout\n",
    "from sklearn.metrics import accuracy_score\n",
    "from sklearn.metrics import f1_score\n",
    "from sklearn.model_selection import train_test_split\n",
    "from sklearn import metrics\n",
    "from sklearn.metrics import confusion_matrix\n",
    "from sklearn.metrics import mean_absolute_error\n",
    "from xgboost import XGBClassifier"
   ]
  },
  {
   "cell_type": "code",
   "execution_count": 4,
   "id": "e4aa8e6b",
   "metadata": {},
   "outputs": [
    {
     "data": {
      "text/html": [
       "<div>\n",
       "<style scoped>\n",
       "    .dataframe tbody tr th:only-of-type {\n",
       "        vertical-align: middle;\n",
       "    }\n",
       "\n",
       "    .dataframe tbody tr th {\n",
       "        vertical-align: top;\n",
       "    }\n",
       "\n",
       "    .dataframe thead th {\n",
       "        text-align: right;\n",
       "    }\n",
       "</style>\n",
       "<table border=\"1\" class=\"dataframe\">\n",
       "  <thead>\n",
       "    <tr style=\"text-align: right;\">\n",
       "      <th></th>\n",
       "      <th>CreditScore</th>\n",
       "      <th>Gender</th>\n",
       "      <th>Age</th>\n",
       "      <th>Tenure</th>\n",
       "      <th>Balance</th>\n",
       "      <th>NumOfProducts</th>\n",
       "      <th>HasCrCard</th>\n",
       "      <th>IsActiveMember</th>\n",
       "      <th>EstimatedSalary</th>\n",
       "      <th>Exited</th>\n",
       "    </tr>\n",
       "  </thead>\n",
       "  <tbody>\n",
       "    <tr>\n",
       "      <th>0</th>\n",
       "      <td>-0.326221</td>\n",
       "      <td>0</td>\n",
       "      <td>0.293517</td>\n",
       "      <td>-1.041760</td>\n",
       "      <td>-1.225848</td>\n",
       "      <td>1</td>\n",
       "      <td>1</td>\n",
       "      <td>1</td>\n",
       "      <td>0.021886</td>\n",
       "      <td>1</td>\n",
       "    </tr>\n",
       "    <tr>\n",
       "      <th>1</th>\n",
       "      <td>-0.440036</td>\n",
       "      <td>0</td>\n",
       "      <td>0.198164</td>\n",
       "      <td>-1.387538</td>\n",
       "      <td>0.117350</td>\n",
       "      <td>1</td>\n",
       "      <td>0</td>\n",
       "      <td>1</td>\n",
       "      <td>0.216534</td>\n",
       "      <td>0</td>\n",
       "    </tr>\n",
       "    <tr>\n",
       "      <th>2</th>\n",
       "      <td>-1.536794</td>\n",
       "      <td>0</td>\n",
       "      <td>0.293517</td>\n",
       "      <td>1.032908</td>\n",
       "      <td>1.333053</td>\n",
       "      <td>3</td>\n",
       "      <td>1</td>\n",
       "      <td>0</td>\n",
       "      <td>0.240687</td>\n",
       "      <td>1</td>\n",
       "    </tr>\n",
       "    <tr>\n",
       "      <th>3</th>\n",
       "      <td>0.501521</td>\n",
       "      <td>0</td>\n",
       "      <td>0.007457</td>\n",
       "      <td>-1.387538</td>\n",
       "      <td>-1.225848</td>\n",
       "      <td>2</td>\n",
       "      <td>0</td>\n",
       "      <td>0</td>\n",
       "      <td>-0.108918</td>\n",
       "      <td>0</td>\n",
       "    </tr>\n",
       "    <tr>\n",
       "      <th>4</th>\n",
       "      <td>2.063884</td>\n",
       "      <td>0</td>\n",
       "      <td>0.388871</td>\n",
       "      <td>-1.041760</td>\n",
       "      <td>0.785728</td>\n",
       "      <td>1</td>\n",
       "      <td>1</td>\n",
       "      <td>1</td>\n",
       "      <td>-0.365276</td>\n",
       "      <td>0</td>\n",
       "    </tr>\n",
       "    <tr>\n",
       "      <th>...</th>\n",
       "      <td>...</td>\n",
       "      <td>...</td>\n",
       "      <td>...</td>\n",
       "      <td>...</td>\n",
       "      <td>...</td>\n",
       "      <td>...</td>\n",
       "      <td>...</td>\n",
       "      <td>...</td>\n",
       "      <td>...</td>\n",
       "      <td>...</td>\n",
       "    </tr>\n",
       "    <tr>\n",
       "      <th>9995</th>\n",
       "      <td>1.246488</td>\n",
       "      <td>1</td>\n",
       "      <td>0.007457</td>\n",
       "      <td>-0.004426</td>\n",
       "      <td>-1.225848</td>\n",
       "      <td>2</td>\n",
       "      <td>1</td>\n",
       "      <td>0</td>\n",
       "      <td>-0.066419</td>\n",
       "      <td>0</td>\n",
       "    </tr>\n",
       "    <tr>\n",
       "      <th>9996</th>\n",
       "      <td>-1.391939</td>\n",
       "      <td>1</td>\n",
       "      <td>-0.373958</td>\n",
       "      <td>1.724464</td>\n",
       "      <td>-0.306379</td>\n",
       "      <td>1</td>\n",
       "      <td>1</td>\n",
       "      <td>1</td>\n",
       "      <td>0.027988</td>\n",
       "      <td>0</td>\n",
       "    </tr>\n",
       "    <tr>\n",
       "      <th>9997</th>\n",
       "      <td>0.604988</td>\n",
       "      <td>0</td>\n",
       "      <td>-0.278604</td>\n",
       "      <td>0.687130</td>\n",
       "      <td>-1.225848</td>\n",
       "      <td>1</td>\n",
       "      <td>0</td>\n",
       "      <td>1</td>\n",
       "      <td>-1.008643</td>\n",
       "      <td>1</td>\n",
       "    </tr>\n",
       "    <tr>\n",
       "      <th>9998</th>\n",
       "      <td>1.256835</td>\n",
       "      <td>1</td>\n",
       "      <td>0.293517</td>\n",
       "      <td>-0.695982</td>\n",
       "      <td>-0.022608</td>\n",
       "      <td>2</td>\n",
       "      <td>1</td>\n",
       "      <td>0</td>\n",
       "      <td>-0.125231</td>\n",
       "      <td>1</td>\n",
       "    </tr>\n",
       "    <tr>\n",
       "      <th>9999</th>\n",
       "      <td>1.463771</td>\n",
       "      <td>0</td>\n",
       "      <td>-1.041433</td>\n",
       "      <td>-0.350204</td>\n",
       "      <td>0.859965</td>\n",
       "      <td>1</td>\n",
       "      <td>1</td>\n",
       "      <td>0</td>\n",
       "      <td>-1.076370</td>\n",
       "      <td>0</td>\n",
       "    </tr>\n",
       "  </tbody>\n",
       "</table>\n",
       "<p>10000 rows × 10 columns</p>\n",
       "</div>"
      ],
      "text/plain": [
       "      CreditScore  Gender       Age    Tenure   Balance  NumOfProducts  \\\n",
       "0       -0.326221       0  0.293517 -1.041760 -1.225848              1   \n",
       "1       -0.440036       0  0.198164 -1.387538  0.117350              1   \n",
       "2       -1.536794       0  0.293517  1.032908  1.333053              3   \n",
       "3        0.501521       0  0.007457 -1.387538 -1.225848              2   \n",
       "4        2.063884       0  0.388871 -1.041760  0.785728              1   \n",
       "...           ...     ...       ...       ...       ...            ...   \n",
       "9995     1.246488       1  0.007457 -0.004426 -1.225848              2   \n",
       "9996    -1.391939       1 -0.373958  1.724464 -0.306379              1   \n",
       "9997     0.604988       0 -0.278604  0.687130 -1.225848              1   \n",
       "9998     1.256835       1  0.293517 -0.695982 -0.022608              2   \n",
       "9999     1.463771       0 -1.041433 -0.350204  0.859965              1   \n",
       "\n",
       "      HasCrCard  IsActiveMember  EstimatedSalary  Exited  \n",
       "0             1               1         0.021886       1  \n",
       "1             0               1         0.216534       0  \n",
       "2             1               0         0.240687       1  \n",
       "3             0               0        -0.108918       0  \n",
       "4             1               1        -0.365276       0  \n",
       "...         ...             ...              ...     ...  \n",
       "9995          1               0        -0.066419       0  \n",
       "9996          1               1         0.027988       0  \n",
       "9997          0               1        -1.008643       1  \n",
       "9998          1               0        -0.125231       1  \n",
       "9999          1               0        -1.076370       0  \n",
       "\n",
       "[10000 rows x 10 columns]"
      ]
     },
     "execution_count": 4,
     "metadata": {},
     "output_type": "execute_result"
    }
   ],
   "source": [
    "df = pd.read_csv('./Churn_Modeling_Cleaned', sep=',')\n",
    "df.drop('Unnamed: 0', axis=1, inplace= True)\n",
    "df.drop('Geography', axis=1, inplace= True)\n",
    "df"
   ]
  },
  {
   "cell_type": "code",
   "execution_count": 5,
   "id": "f2a6c639",
   "metadata": {},
   "outputs": [],
   "source": [
    "X = df.drop('Exited', axis=1)\n",
    "y= df['Exited']\n",
    "X_train, X_test, y_train, y_test = train_test_split(X,y, test_size=0.2, train_size = 0.8, random_state=30)"
   ]
  },
  {
   "cell_type": "markdown",
   "id": "2a5335d9",
   "metadata": {},
   "source": [
    "# Keras Deep Learning "
   ]
  },
  {
   "cell_type": "code",
   "execution_count": 8,
   "id": "4f7e8436",
   "metadata": {},
   "outputs": [],
   "source": [
    "model = Sequential()\n",
    "model.add(Dense(16, input_dim=X.shape[1], kernel_initializer='uniform',activation=\"relu\" ))\n",
    "model.add(Dense(32,activation=\"relu\"))\n",
    "model.add(Dropout(0.5))\n",
    "model.add(Dense(16,activation=\"relu\"))\n",
    "model.add(Dense(units = 1, activation='sigmoid', kernel_initializer='uniform'))\n",
    "model.add(Flatten())\n",
    "model.compile(metrics = ['accuracy'], loss = 'binary_crossentropy' )"
   ]
  },
  {
   "cell_type": "code",
   "execution_count": 9,
   "id": "cf4d573c",
   "metadata": {
    "scrolled": true
   },
   "outputs": [
    {
     "name": "stdout",
     "output_type": "stream",
     "text": [
      "Epoch 1/150\n"
     ]
    },
    {
     "name": "stderr",
     "output_type": "stream",
     "text": [
      "2022-08-10 19:30:29.606724: I tensorflow/core/grappler/optimizers/custom_graph_optimizer_registry.cc:113] Plugin optimizer for device_type GPU is enabled.\n"
     ]
    },
    {
     "name": "stdout",
     "output_type": "stream",
     "text": [
      "125/125 [==============================] - 2s 8ms/step - loss: 0.5265 - accuracy: 0.7990\n",
      "Epoch 2/150\n",
      "125/125 [==============================] - 1s 8ms/step - loss: 0.4432 - accuracy: 0.7999\n",
      "Epoch 3/150\n",
      "125/125 [==============================] - 1s 8ms/step - loss: 0.4349 - accuracy: 0.7999\n",
      "Epoch 4/150\n",
      "125/125 [==============================] - 1s 8ms/step - loss: 0.4318 - accuracy: 0.7999\n",
      "Epoch 5/150\n",
      "125/125 [==============================] - 1s 8ms/step - loss: 0.4318 - accuracy: 0.7999\n",
      "Epoch 6/150\n",
      "125/125 [==============================] - 1s 7ms/step - loss: 0.4281 - accuracy: 0.8000\n",
      "Epoch 7/150\n",
      "125/125 [==============================] - 1s 8ms/step - loss: 0.4258 - accuracy: 0.8060\n",
      "Epoch 8/150\n",
      "125/125 [==============================] - 1s 8ms/step - loss: 0.4239 - accuracy: 0.8160\n",
      "Epoch 9/150\n",
      "125/125 [==============================] - 1s 8ms/step - loss: 0.4206 - accuracy: 0.8224\n",
      "Epoch 10/150\n",
      "125/125 [==============================] - 1s 8ms/step - loss: 0.4164 - accuracy: 0.8295\n",
      "Epoch 11/150\n",
      "125/125 [==============================] - 1s 8ms/step - loss: 0.4139 - accuracy: 0.8345\n",
      "Epoch 12/150\n",
      "125/125 [==============================] - 1s 8ms/step - loss: 0.4114 - accuracy: 0.8346\n",
      "Epoch 13/150\n",
      "125/125 [==============================] - 1s 8ms/step - loss: 0.4110 - accuracy: 0.8349\n",
      "Epoch 14/150\n",
      "125/125 [==============================] - 1s 8ms/step - loss: 0.4091 - accuracy: 0.8364\n",
      "Epoch 15/150\n",
      "125/125 [==============================] - 1s 8ms/step - loss: 0.4060 - accuracy: 0.8376\n",
      "Epoch 16/150\n",
      "125/125 [==============================] - 1s 8ms/step - loss: 0.4046 - accuracy: 0.8376\n",
      "Epoch 17/150\n",
      "125/125 [==============================] - 1s 8ms/step - loss: 0.4041 - accuracy: 0.8388\n",
      "Epoch 18/150\n",
      "125/125 [==============================] - 1s 8ms/step - loss: 0.4006 - accuracy: 0.8380\n",
      "Epoch 19/150\n",
      "125/125 [==============================] - 1s 8ms/step - loss: 0.3977 - accuracy: 0.8374\n",
      "Epoch 20/150\n",
      "125/125 [==============================] - 1s 8ms/step - loss: 0.3974 - accuracy: 0.8384\n",
      "Epoch 21/150\n",
      "125/125 [==============================] - 1s 8ms/step - loss: 0.3982 - accuracy: 0.8403\n",
      "Epoch 22/150\n",
      "125/125 [==============================] - 1s 8ms/step - loss: 0.3949 - accuracy: 0.8425\n",
      "Epoch 23/150\n",
      "125/125 [==============================] - 1s 8ms/step - loss: 0.3928 - accuracy: 0.8394\n",
      "Epoch 24/150\n",
      "125/125 [==============================] - 1s 8ms/step - loss: 0.3887 - accuracy: 0.8424\n",
      "Epoch 25/150\n",
      "125/125 [==============================] - 1s 7ms/step - loss: 0.3897 - accuracy: 0.8435\n",
      "Epoch 26/150\n",
      "125/125 [==============================] - 1s 7ms/step - loss: 0.3858 - accuracy: 0.8440\n",
      "Epoch 27/150\n",
      "125/125 [==============================] - 1s 7ms/step - loss: 0.3824 - accuracy: 0.8484\n",
      "Epoch 28/150\n",
      "125/125 [==============================] - 1s 7ms/step - loss: 0.3806 - accuracy: 0.8459\n",
      "Epoch 29/150\n",
      "125/125 [==============================] - 1s 7ms/step - loss: 0.3797 - accuracy: 0.8479\n",
      "Epoch 30/150\n",
      "125/125 [==============================] - 1s 7ms/step - loss: 0.3739 - accuracy: 0.8479\n",
      "Epoch 31/150\n",
      "125/125 [==============================] - 1s 8ms/step - loss: 0.3729 - accuracy: 0.8490\n",
      "Epoch 32/150\n",
      "125/125 [==============================] - 1s 8ms/step - loss: 0.3724 - accuracy: 0.8488\n",
      "Epoch 33/150\n",
      "125/125 [==============================] - 1s 8ms/step - loss: 0.3682 - accuracy: 0.8521\n",
      "Epoch 34/150\n",
      "125/125 [==============================] - 1s 8ms/step - loss: 0.3727 - accuracy: 0.8504\n",
      "Epoch 35/150\n",
      "125/125 [==============================] - 1s 8ms/step - loss: 0.3689 - accuracy: 0.8485\n",
      "Epoch 36/150\n",
      "125/125 [==============================] - 1s 7ms/step - loss: 0.3701 - accuracy: 0.8508\n",
      "Epoch 37/150\n",
      "125/125 [==============================] - 1s 7ms/step - loss: 0.3686 - accuracy: 0.8514\n",
      "Epoch 38/150\n",
      "125/125 [==============================] - 1s 8ms/step - loss: 0.3646 - accuracy: 0.8508\n",
      "Epoch 39/150\n",
      "125/125 [==============================] - 1s 7ms/step - loss: 0.3628 - accuracy: 0.8535\n",
      "Epoch 40/150\n",
      "125/125 [==============================] - 1s 7ms/step - loss: 0.3675 - accuracy: 0.8494\n",
      "Epoch 41/150\n",
      "125/125 [==============================] - 1s 8ms/step - loss: 0.3626 - accuracy: 0.8531\n",
      "Epoch 42/150\n",
      "125/125 [==============================] - 1s 8ms/step - loss: 0.3628 - accuracy: 0.8511\n",
      "Epoch 43/150\n",
      "125/125 [==============================] - 1s 8ms/step - loss: 0.3622 - accuracy: 0.8520\n",
      "Epoch 44/150\n",
      "125/125 [==============================] - 1s 8ms/step - loss: 0.3613 - accuracy: 0.8519\n",
      "Epoch 45/150\n",
      "125/125 [==============================] - 1s 8ms/step - loss: 0.3650 - accuracy: 0.8493\n",
      "Epoch 46/150\n",
      "125/125 [==============================] - 1s 8ms/step - loss: 0.3630 - accuracy: 0.8509\n",
      "Epoch 47/150\n",
      "125/125 [==============================] - 1s 8ms/step - loss: 0.3615 - accuracy: 0.8516\n",
      "Epoch 48/150\n",
      "125/125 [==============================] - 1s 8ms/step - loss: 0.3627 - accuracy: 0.8528\n",
      "Epoch 49/150\n",
      "125/125 [==============================] - 1s 8ms/step - loss: 0.3615 - accuracy: 0.8488\n",
      "Epoch 50/150\n",
      "125/125 [==============================] - 1s 8ms/step - loss: 0.3570 - accuracy: 0.8555\n",
      "Epoch 51/150\n",
      "125/125 [==============================] - 1s 8ms/step - loss: 0.3616 - accuracy: 0.8529\n",
      "Epoch 52/150\n",
      "125/125 [==============================] - 1s 8ms/step - loss: 0.3648 - accuracy: 0.8508\n",
      "Epoch 53/150\n",
      "125/125 [==============================] - 1s 8ms/step - loss: 0.3606 - accuracy: 0.8544\n",
      "Epoch 54/150\n",
      "125/125 [==============================] - 1s 8ms/step - loss: 0.3593 - accuracy: 0.8518\n",
      "Epoch 55/150\n",
      "125/125 [==============================] - 1s 8ms/step - loss: 0.3612 - accuracy: 0.8524\n",
      "Epoch 56/150\n",
      "125/125 [==============================] - 1s 8ms/step - loss: 0.3570 - accuracy: 0.8569\n",
      "Epoch 57/150\n",
      "125/125 [==============================] - 1s 8ms/step - loss: 0.3639 - accuracy: 0.8508\n",
      "Epoch 58/150\n",
      "125/125 [==============================] - 1s 8ms/step - loss: 0.3584 - accuracy: 0.8513\n",
      "Epoch 59/150\n",
      "125/125 [==============================] - 1s 8ms/step - loss: 0.3572 - accuracy: 0.8549\n",
      "Epoch 60/150\n",
      "125/125 [==============================] - 1s 8ms/step - loss: 0.3567 - accuracy: 0.8541\n",
      "Epoch 61/150\n",
      "125/125 [==============================] - 1s 8ms/step - loss: 0.3591 - accuracy: 0.8549\n",
      "Epoch 62/150\n",
      "125/125 [==============================] - 1s 8ms/step - loss: 0.3590 - accuracy: 0.8559\n",
      "Epoch 63/150\n",
      "125/125 [==============================] - 1s 8ms/step - loss: 0.3583 - accuracy: 0.8543\n",
      "Epoch 64/150\n",
      "125/125 [==============================] - 1s 8ms/step - loss: 0.3548 - accuracy: 0.8546\n",
      "Epoch 65/150\n",
      "125/125 [==============================] - 1s 8ms/step - loss: 0.3552 - accuracy: 0.8565\n",
      "Epoch 66/150\n",
      "125/125 [==============================] - 1s 8ms/step - loss: 0.3589 - accuracy: 0.8540\n",
      "Epoch 67/150\n",
      "125/125 [==============================] - 1s 8ms/step - loss: 0.3575 - accuracy: 0.8550\n",
      "Epoch 68/150\n",
      "125/125 [==============================] - 1s 8ms/step - loss: 0.3571 - accuracy: 0.8541\n",
      "Epoch 69/150\n",
      "125/125 [==============================] - 1s 8ms/step - loss: 0.3533 - accuracy: 0.8576\n",
      "Epoch 70/150\n",
      "125/125 [==============================] - 1s 8ms/step - loss: 0.3525 - accuracy: 0.8589\n",
      "Epoch 71/150\n",
      "125/125 [==============================] - 1s 8ms/step - loss: 0.3544 - accuracy: 0.8570\n",
      "Epoch 72/150\n",
      "125/125 [==============================] - 1s 8ms/step - loss: 0.3507 - accuracy: 0.8591\n",
      "Epoch 73/150\n",
      "125/125 [==============================] - 1s 8ms/step - loss: 0.3570 - accuracy: 0.8563\n",
      "Epoch 74/150\n",
      "125/125 [==============================] - 1s 8ms/step - loss: 0.3515 - accuracy: 0.8579\n",
      "Epoch 75/150\n",
      "125/125 [==============================] - 1s 8ms/step - loss: 0.3526 - accuracy: 0.8564\n",
      "Epoch 76/150\n",
      "125/125 [==============================] - 1s 8ms/step - loss: 0.3502 - accuracy: 0.8594\n",
      "Epoch 77/150\n",
      "125/125 [==============================] - 1s 8ms/step - loss: 0.3544 - accuracy: 0.8585\n",
      "Epoch 78/150\n",
      "125/125 [==============================] - 1s 8ms/step - loss: 0.3549 - accuracy: 0.8579\n",
      "Epoch 79/150\n",
      "125/125 [==============================] - 1s 8ms/step - loss: 0.3514 - accuracy: 0.8580\n",
      "Epoch 80/150\n",
      "125/125 [==============================] - 1s 8ms/step - loss: 0.3500 - accuracy: 0.8595\n",
      "Epoch 81/150\n",
      "125/125 [==============================] - 1s 8ms/step - loss: 0.3503 - accuracy: 0.8589\n",
      "Epoch 82/150\n",
      "125/125 [==============================] - 1s 8ms/step - loss: 0.3530 - accuracy: 0.8569\n",
      "Epoch 83/150\n",
      "125/125 [==============================] - 1s 7ms/step - loss: 0.3513 - accuracy: 0.8571\n",
      "Epoch 84/150\n",
      "125/125 [==============================] - 1s 8ms/step - loss: 0.3555 - accuracy: 0.8565\n",
      "Epoch 85/150\n",
      "125/125 [==============================] - 1s 8ms/step - loss: 0.3521 - accuracy: 0.8581\n",
      "Epoch 86/150\n",
      "125/125 [==============================] - 1s 8ms/step - loss: 0.3543 - accuracy: 0.8560\n",
      "Epoch 87/150\n",
      "125/125 [==============================] - 1s 8ms/step - loss: 0.3515 - accuracy: 0.8570\n",
      "Epoch 88/150\n",
      "125/125 [==============================] - 1s 8ms/step - loss: 0.3534 - accuracy: 0.8550\n",
      "Epoch 89/150\n",
      "125/125 [==============================] - 1s 8ms/step - loss: 0.3512 - accuracy: 0.8568\n",
      "Epoch 90/150\n",
      "125/125 [==============================] - 1s 8ms/step - loss: 0.3517 - accuracy: 0.8594\n",
      "Epoch 91/150\n",
      "125/125 [==============================] - 1s 8ms/step - loss: 0.3517 - accuracy: 0.8591\n",
      "Epoch 92/150\n",
      "125/125 [==============================] - 1s 8ms/step - loss: 0.3502 - accuracy: 0.8595\n",
      "Epoch 93/150\n",
      "125/125 [==============================] - 1s 8ms/step - loss: 0.3525 - accuracy: 0.8579\n",
      "Epoch 94/150\n",
      "125/125 [==============================] - 1s 8ms/step - loss: 0.3530 - accuracy: 0.8570\n",
      "Epoch 95/150\n",
      "125/125 [==============================] - 1s 8ms/step - loss: 0.3496 - accuracy: 0.8564\n",
      "Epoch 96/150\n",
      "125/125 [==============================] - 1s 8ms/step - loss: 0.3514 - accuracy: 0.8615\n",
      "Epoch 97/150\n",
      "125/125 [==============================] - 1s 8ms/step - loss: 0.3459 - accuracy: 0.8603\n",
      "Epoch 98/150\n",
      "125/125 [==============================] - 1s 7ms/step - loss: 0.3525 - accuracy: 0.8585\n",
      "Epoch 99/150\n",
      "125/125 [==============================] - 1s 8ms/step - loss: 0.3461 - accuracy: 0.8604\n",
      "Epoch 100/150\n",
      "125/125 [==============================] - 1s 8ms/step - loss: 0.3484 - accuracy: 0.8568\n",
      "Epoch 101/150\n",
      "125/125 [==============================] - 1s 8ms/step - loss: 0.3492 - accuracy: 0.8593\n",
      "Epoch 102/150\n",
      "125/125 [==============================] - 1s 8ms/step - loss: 0.3485 - accuracy: 0.8589\n",
      "Epoch 103/150\n",
      "125/125 [==============================] - 1s 8ms/step - loss: 0.3515 - accuracy: 0.8565\n",
      "Epoch 104/150\n",
      "125/125 [==============================] - 1s 8ms/step - loss: 0.3504 - accuracy: 0.8591\n",
      "Epoch 105/150\n",
      "125/125 [==============================] - 1s 8ms/step - loss: 0.3478 - accuracy: 0.8595\n",
      "Epoch 106/150\n",
      "125/125 [==============================] - 1s 8ms/step - loss: 0.3503 - accuracy: 0.8574\n",
      "Epoch 107/150\n",
      "125/125 [==============================] - 1s 8ms/step - loss: 0.3513 - accuracy: 0.8584\n",
      "Epoch 108/150\n",
      "125/125 [==============================] - 1s 8ms/step - loss: 0.3486 - accuracy: 0.8604\n",
      "Epoch 109/150\n",
      "125/125 [==============================] - 1s 8ms/step - loss: 0.3502 - accuracy: 0.8565\n",
      "Epoch 110/150\n",
      "125/125 [==============================] - 1s 7ms/step - loss: 0.3486 - accuracy: 0.8601\n",
      "Epoch 111/150\n",
      "125/125 [==============================] - 1s 8ms/step - loss: 0.3501 - accuracy: 0.8585\n",
      "Epoch 112/150\n",
      "125/125 [==============================] - 1s 8ms/step - loss: 0.3503 - accuracy: 0.8595\n",
      "Epoch 113/150\n",
      "125/125 [==============================] - 1s 8ms/step - loss: 0.3510 - accuracy: 0.8578\n",
      "Epoch 114/150\n",
      "125/125 [==============================] - 1s 7ms/step - loss: 0.3497 - accuracy: 0.8606\n",
      "Epoch 115/150\n",
      "125/125 [==============================] - 1s 7ms/step - loss: 0.3500 - accuracy: 0.8578\n",
      "Epoch 116/150\n",
      "125/125 [==============================] - 1s 8ms/step - loss: 0.3473 - accuracy: 0.8583\n",
      "Epoch 117/150\n",
      "125/125 [==============================] - 1s 8ms/step - loss: 0.3494 - accuracy: 0.8583\n",
      "Epoch 118/150\n",
      "125/125 [==============================] - 1s 8ms/step - loss: 0.3494 - accuracy: 0.8615\n",
      "Epoch 119/150\n",
      "125/125 [==============================] - 1s 7ms/step - loss: 0.3486 - accuracy: 0.8609\n",
      "Epoch 120/150\n",
      "125/125 [==============================] - 1s 8ms/step - loss: 0.3475 - accuracy: 0.8599\n",
      "Epoch 121/150\n",
      "125/125 [==============================] - 1s 8ms/step - loss: 0.3496 - accuracy: 0.8601\n",
      "Epoch 122/150\n",
      "125/125 [==============================] - 1s 8ms/step - loss: 0.3506 - accuracy: 0.8581\n",
      "Epoch 123/150\n",
      "125/125 [==============================] - 1s 8ms/step - loss: 0.3482 - accuracy: 0.8605\n",
      "Epoch 124/150\n",
      "125/125 [==============================] - 1s 7ms/step - loss: 0.3478 - accuracy: 0.8613\n",
      "Epoch 125/150\n",
      "125/125 [==============================] - 1s 7ms/step - loss: 0.3486 - accuracy: 0.8598\n",
      "Epoch 126/150\n",
      "125/125 [==============================] - 1s 8ms/step - loss: 0.3477 - accuracy: 0.8593\n",
      "Epoch 127/150\n",
      "125/125 [==============================] - 1s 8ms/step - loss: 0.3496 - accuracy: 0.8576\n",
      "Epoch 128/150\n",
      "125/125 [==============================] - 1s 8ms/step - loss: 0.3470 - accuracy: 0.8576\n",
      "Epoch 129/150\n",
      "125/125 [==============================] - 1s 8ms/step - loss: 0.3510 - accuracy: 0.8575\n",
      "Epoch 130/150\n",
      "125/125 [==============================] - 1s 8ms/step - loss: 0.3475 - accuracy: 0.8610\n",
      "Epoch 131/150\n",
      "125/125 [==============================] - 1s 8ms/step - loss: 0.3484 - accuracy: 0.8583\n",
      "Epoch 132/150\n",
      "125/125 [==============================] - 1s 8ms/step - loss: 0.3457 - accuracy: 0.8604\n",
      "Epoch 133/150\n",
      "125/125 [==============================] - 1s 8ms/step - loss: 0.3486 - accuracy: 0.8608\n",
      "Epoch 134/150\n",
      "125/125 [==============================] - 1s 8ms/step - loss: 0.3453 - accuracy: 0.8598\n",
      "Epoch 135/150\n",
      "125/125 [==============================] - 1s 8ms/step - loss: 0.3467 - accuracy: 0.8611\n",
      "Epoch 136/150\n",
      "125/125 [==============================] - 1s 8ms/step - loss: 0.3518 - accuracy: 0.8601\n",
      "Epoch 137/150\n",
      "125/125 [==============================] - 1s 8ms/step - loss: 0.3498 - accuracy: 0.8601\n",
      "Epoch 138/150\n",
      "125/125 [==============================] - 1s 8ms/step - loss: 0.3456 - accuracy: 0.8605\n",
      "Epoch 139/150\n",
      "125/125 [==============================] - 1s 8ms/step - loss: 0.3498 - accuracy: 0.8589\n",
      "Epoch 140/150\n",
      "125/125 [==============================] - 1s 8ms/step - loss: 0.3483 - accuracy: 0.8598\n",
      "Epoch 141/150\n",
      "125/125 [==============================] - 1s 8ms/step - loss: 0.3466 - accuracy: 0.8601\n",
      "Epoch 142/150\n",
      "125/125 [==============================] - 1s 8ms/step - loss: 0.3468 - accuracy: 0.8590\n",
      "Epoch 143/150\n",
      "125/125 [==============================] - 1s 8ms/step - loss: 0.3485 - accuracy: 0.8610\n",
      "Epoch 144/150\n",
      "125/125 [==============================] - 1s 8ms/step - loss: 0.3471 - accuracy: 0.8575\n",
      "Epoch 145/150\n",
      "125/125 [==============================] - 1s 8ms/step - loss: 0.3499 - accuracy: 0.8609\n",
      "Epoch 146/150\n",
      "125/125 [==============================] - 1s 8ms/step - loss: 0.3482 - accuracy: 0.8616\n",
      "Epoch 147/150\n",
      "125/125 [==============================] - 1s 8ms/step - loss: 0.3480 - accuracy: 0.8593\n",
      "Epoch 148/150\n",
      "125/125 [==============================] - 1s 8ms/step - loss: 0.3477 - accuracy: 0.8604\n",
      "Epoch 149/150\n",
      "125/125 [==============================] - 1s 8ms/step - loss: 0.3490 - accuracy: 0.8608\n",
      "Epoch 150/150\n",
      "125/125 [==============================] - 1s 8ms/step - loss: 0.3486 - accuracy: 0.8599\n"
     ]
    },
    {
     "data": {
      "text/plain": [
       "<keras.callbacks.History at 0x2d161ae00>"
      ]
     },
     "execution_count": 9,
     "metadata": {},
     "output_type": "execute_result"
    }
   ],
   "source": [
    "model.fit(X_train, y_train, verbose=1, epochs=150, batch_size=64 )"
   ]
  },
  {
   "cell_type": "code",
   "execution_count": 6,
   "id": "f438cdab",
   "metadata": {},
   "outputs": [
    {
     "name": "stdout",
     "output_type": "stream",
     "text": [
      "63/63 [==============================] - 0s 2ms/step\n",
      "Accuracy: 0.8385\n",
      "Precision: 0.6423173803526449\n",
      "Recall: 0.5848623853211009\n"
     ]
    },
    {
     "name": "stderr",
     "output_type": "stream",
     "text": [
      "2022-08-10 19:29:18.810859: I tensorflow/core/grappler/optimizers/custom_graph_optimizer_registry.cc:113] Plugin optimizer for device_type GPU is enabled.\n"
     ]
    }
   ],
   "source": [
    "y_pred = model.predict(X_test)\n",
    "rounded = y_pred.round()\n",
    "\n",
    "print(\"Accuracy:\",metrics.accuracy_score(y_test, rounded))\n",
    "print(\"Precision:\",metrics.precision_score(y_test, rounded))\n",
    "print(\"Recall:\",metrics.recall_score(y_test, rounded))\n"
   ]
  },
  {
   "cell_type": "code",
   "execution_count": 7,
   "id": "d3a2e9ca",
   "metadata": {},
   "outputs": [
    {
     "data": {
      "image/png": "[encoded data removed]",
      "text/plain": [
       "<Figure size 432x288 with 2 Axes>"
      ]
     },
     "metadata": {
      "needs_background": "light"
     },
     "output_type": "display_data"
    }
   ],
   "source": [
    "cf_matrix = confusion_matrix(y_test, rounded)\n",
    "cf_matrix\n",
    "\n",
    "ax = sns.heatmap(cf_matrix, annot=True, cmap='Blues', fmt='g')\n",
    "\n",
    "ax.set_title('Seaborn Confusion Matrix with labels\\n\\n');\n",
    "ax.set_xlabel('\\nPredicted Values')\n",
    "ax.set_ylabel('Actual Values ');\n",
    "ax.xaxis.set_ticklabels(['False','True'])\n",
    "ax.yaxis.set_ticklabels(['False','True'])\n",
    "\n",
    "plt.show()"
   ]
  },
  {
   "cell_type": "code",
   "execution_count": null,
   "id": "2de3af1f",
   "metadata": {},
   "outputs": [],
   "source": [
    "model.save('./Models/Keras_Churn_'+str(metrics.accuracy_score(y_test, rounded))+'_'+str(f1_score(y_test, y_pred)))"
   ]
  },
  {
   "cell_type": "markdown",
   "id": "48e0998c",
   "metadata": {},
   "source": [
    "# Load Best Model"
   ]
  },
  {
   "cell_type": "code",
   "execution_count": 16,
   "id": "c93853d2",
   "metadata": {},
   "outputs": [],
   "source": [
    "model_best = keras.models.load_model('./Models/Keras_Churn_084_062')"
   ]
  },
  {
   "cell_type": "code",
   "execution_count": 17,
   "id": "ef012696",
   "metadata": {},
   "outputs": [
    {
     "name": "stdout",
     "output_type": "stream",
     "text": [
      "63/63 [==============================] - 0s 2ms/step\n"
     ]
    },
    {
     "name": "stderr",
     "output_type": "stream",
     "text": [
      "2022-08-12 08:08:55.780695: I tensorflow/core/grappler/optimizers/custom_graph_optimizer_registry.cc:113] Plugin optimizer for device_type GPU is enabled.\n"
     ]
    }
   ],
   "source": [
    "y_pred = model_best.predict(X_test)"
   ]
  },
  {
   "cell_type": "code",
   "execution_count": 24,
   "id": "037bee3b",
   "metadata": {},
   "outputs": [
    {
     "name": "stdout",
     "output_type": "stream",
     "text": [
      "Accuracy: 0.655\n",
      "Precision: 0.3764591439688716\n",
      "Recall: 0.8876146788990825\n"
     ]
    }
   ],
   "source": [
    "rounded = y_pred > 0.3\n",
    "print(\"Accuracy:\",metrics.accuracy_score(y_test, rounded))\n",
    "print(\"Precision:\",metrics.precision_score(y_test, rounded))\n",
    "print(\"Recall:\",metrics.recall_score(y_test, rounded))"
   ]
  },
  {
   "cell_type": "code",
   "execution_count": 11,
   "id": "5be8888f",
   "metadata": {},
   "outputs": [
    {
     "name": "stdout",
     "output_type": "stream",
     "text": [
      "63/63 [==============================] - 0s 2ms/step\n",
      "Accuracy: 0.8445\n",
      "Precision: 0.6631853785900783\n",
      "Recall: 0.5825688073394495\n"
     ]
    },
    {
     "name": "stderr",
     "output_type": "stream",
     "text": [
      "2022-08-10 22:03:05.487576: I tensorflow/core/grappler/optimizers/custom_graph_optimizer_registry.cc:113] Plugin optimizer for device_type GPU is enabled.\n"
     ]
    }
   ],
   "source": [
    "y_pred = model_best.predict(X_test)\n",
    "rounded = y_pred.round()\n",
    "\n",
    "print(\"Accuracy:\",metrics.accuracy_score(y_test, rounded))\n",
    "print(\"Precision:\",metrics.precision_score(y_test, rounded))\n",
    "print(\"Recall:\",metrics.recall_score(y_test, rounded))"
   ]
  },
  {
   "cell_type": "code",
   "execution_count": 26,
   "id": "c96d744f",
   "metadata": {},
   "outputs": [
    {
     "data": {
      "image/png": "[encoded data removed]",
      "text/plain": [
       "<Figure size 432x288 with 2 Axes>"
      ]
     },
     "metadata": {
      "needs_background": "light"
     },
     "output_type": "display_data"
    }
   ],
   "source": [
    "cf_matrix = confusion_matrix(y_test, rounded)\n",
    "cf_matrix\n",
    "\n",
    "ax = sns.heatmap(cf_matrix, annot=True, cmap='Blues', fmt='g')\n",
    "\n",
    "ax.set_title('Seaborn Confusion Matrix with labels\\n\\n');\n",
    "ax.set_xlabel('\\nPredicted Values')\n",
    "ax.set_ylabel('Actual Values ');\n",
    "ax.xaxis.set_ticklabels(['False','True'])\n",
    "ax.yaxis.set_ticklabels(['False','True'])\n",
    "\n",
    "plt.show()"
   ]
  },
  {
   "cell_type": "markdown",
   "id": "68160aaa",
   "metadata": {},
   "source": [
    "# Histogram of Exit Score"
   ]
  },
  {
   "cell_type": "code",
   "execution_count": 14,
   "id": "25fe9631",
   "metadata": {},
   "outputs": [
    {
     "data": {
      "text/plain": [
       "(array([386., 233., 353., 391., 254., 160.,  82.,  13.,  39.,  89.]),\n",
       " array([2.0793101e-07, 9.9999987e-02, 1.9999976e-01, 2.9999954e-01,\n",
       "        3.9999932e-01, 4.9999908e-01, 5.9999889e-01, 6.9999862e-01,\n",
       "        7.9999840e-01, 8.9999819e-01, 9.9999797e-01], dtype=float32),\n",
       " <BarContainer object of 10 artists>)"
      ]
     },
     "execution_count": 14,
     "metadata": {},
     "output_type": "execute_result"
    },
    {
     "data": {
      "image/png": "[encoded data removed]",
      "text/plain": [
       "<Figure size 432x288 with 1 Axes>"
      ]
     },
     "metadata": {
      "needs_background": "light"
     },
     "output_type": "display_data"
    }
   ],
   "source": [
    "df_pred = pd.DataFrame(y_pred,columns=['Chun_Score'])\n",
    "plt.hist(df_pred)"
   ]
  },
  {
   "cell_type": "markdown",
   "id": "5add230a",
   "metadata": {},
   "source": [
    "# XGBoost Classifier"
   ]
  },
  {
   "cell_type": "code",
   "execution_count": 27,
   "id": "027cdd6f",
   "metadata": {},
   "outputs": [],
   "source": [
    "xgbc = XGBClassifier(eval_metric=mean_absolute_error,learning_rate =0.01,\n",
    " n_estimators=2000,\n",
    " max_depth=17,\n",
    " min_child_weight=12,\n",
    " gamma=0,\n",
    " subsample=0.5,)"
   ]
  },
  {
   "cell_type": "code",
   "execution_count": 28,
   "id": "6c271191",
   "metadata": {},
   "outputs": [
    {
     "data": {
      "text/html": [
       "<style>#sk-container-id-1 {color: black;background-color: white;}#sk-container-id-1 pre{padding: 0;}#sk-container-id-1 div.sk-toggleable {background-color: white;}#sk-container-id-1 label.sk-toggleable__label {cursor: pointer;display: block;width: 100%;margin-bottom: 0;padding: 0.3em;box-sizing: border-box;text-align: center;}#sk-container-id-1 label.sk-toggleable__label-arrow:before {content: \"▸\";float: left;margin-right: 0.25em;color: #696969;}#sk-container-id-1 label.sk-toggleable__label-arrow:hover:before {color: black;}#sk-container-id-1 div.sk-estimator:hover label.sk-toggleable__label-arrow:before {color: black;}#sk-container-id-1 div.sk-toggleable__content {max-height: 0;max-width: 0;overflow: hidden;text-align: left;background-color: #f0f8ff;}#sk-container-id-1 div.sk-toggleable__content pre {margin: 0.2em;color: black;border-radius: 0.25em;background-color: #f0f8ff;}#sk-container-id-1 input.sk-toggleable__control:checked~div.sk-toggleable__content {max-height: 200px;max-width: 100%;overflow: auto;}#sk-container-id-1 input.sk-toggleable__control:checked~label.sk-toggleable__label-arrow:before {content: \"▾\";}#sk-container-id-1 div.sk-estimator input.sk-toggleable__control:checked~label.sk-toggleable__label {background-color: #d4ebff;}#sk-container-id-1 div.sk-label input.sk-toggleable__control:checked~label.sk-toggleable__label {background-color: #d4ebff;}#sk-container-id-1 input.sk-hidden--visually {border: 0;clip: rect(1px 1px 1px 1px);clip: rect(1px, 1px, 1px, 1px);height: 1px;margin: -1px;overflow: hidden;padding: 0;position: absolute;width: 1px;}#sk-container-id-1 div.sk-estimator {font-family: monospace;background-color: #f0f8ff;border: 1px dotted black;border-radius: 0.25em;box-sizing: border-box;margin-bottom: 0.5em;}#sk-container-id-1 div.sk-estimator:hover {background-color: #d4ebff;}#sk-container-id-1 div.sk-parallel-item::after {content: \"\";width: 100%;border-bottom: 1px solid gray;flex-grow: 1;}#sk-container-id-1 div.sk-label:hover label.sk-toggleable__label {background-color: #d4ebff;}#sk-container-id-1 div.sk-serial::before {content: \"\";position: absolute;border-left: 1px solid gray;box-sizing: border-box;top: 0;bottom: 0;left: 50%;z-index: 0;}#sk-container-id-1 div.sk-serial {display: flex;flex-direction: column;align-items: center;background-color: white;padding-right: 0.2em;padding-left: 0.2em;position: relative;}#sk-container-id-1 div.sk-item {position: relative;z-index: 1;}#sk-container-id-1 div.sk-parallel {display: flex;align-items: stretch;justify-content: center;background-color: white;position: relative;}#sk-container-id-1 div.sk-item::before, #sk-container-id-1 div.sk-parallel-item::before {content: \"\";position: absolute;border-left: 1px solid gray;box-sizing: border-box;top: 0;bottom: 0;left: 50%;z-index: -1;}#sk-container-id-1 div.sk-parallel-item {display: flex;flex-direction: column;z-index: 1;position: relative;background-color: white;}#sk-container-id-1 div.sk-parallel-item:first-child::after {align-self: flex-end;width: 50%;}#sk-container-id-1 div.sk-parallel-item:last-child::after {align-self: flex-start;width: 50%;}#sk-container-id-1 div.sk-parallel-item:only-child::after {width: 0;}#sk-container-id-1 div.sk-dashed-wrapped {border: 1px dashed gray;margin: 0 0.4em 0.5em 0.4em;box-sizing: border-box;padding-bottom: 0.4em;background-color: white;}#sk-container-id-1 div.sk-label label {font-family: monospace;font-weight: bold;display: inline-block;line-height: 1.2em;}#sk-container-id-1 div.sk-label-container {text-align: center;}#sk-container-id-1 div.sk-container {/* jupyter's `normalize.less` sets `[hidden] { display: none; }` but bootstrap.min.css set `[hidden] { display: none !important; }` so we also need the `!important` here to be able to override the default hidden behavior on the sphinx rendered scikit-learn.org. See: https://github.com/scikit-learn/scikit-learn/issues/21755 */display: inline-block !important;position: relative;}#sk-container-id-1 div.sk-text-repr-fallback {display: none;}</style><div id=\"sk-container-id-1\" class=\"sk-top-container\"><div class=\"sk-text-repr-fallback\"><pre>XGBClassifier(base_score=0.5, booster=&#x27;gbtree&#x27;, callbacks=None,\n",
       "              colsample_bylevel=1, colsample_bynode=1, colsample_bytree=1,\n",
       "              early_stopping_rounds=None, enable_categorical=False,\n",
       "              eval_metric=&lt;function mean_absolute_error at 0x17fdd16c0&gt;,\n",
       "              gamma=0, gpu_id=-1, grow_policy=&#x27;depthwise&#x27;, importance_type=None,\n",
       "              interaction_constraints=&#x27;&#x27;, learning_rate=0.01, max_bin=256,\n",
       "              max_cat_to_onehot=4, max_delta_step=0, max_depth=17, max_leaves=0,\n",
       "              min_child_weight=12, missing=nan, monotone_constraints=&#x27;()&#x27;,\n",
       "              n_estimators=2000, n_jobs=0, num_parallel_tree=1,\n",
       "              predictor=&#x27;auto&#x27;, random_state=0, reg_alpha=0, reg_lambda=1, ...)</pre><b>In a Jupyter environment, please rerun this cell to show the HTML representation or trust the notebook. <br />On GitHub, the HTML representation is unable to render, please try loading this page with nbviewer.org.</b></div><div class=\"sk-container\" hidden><div class=\"sk-item\"><div class=\"sk-estimator sk-toggleable\"><input class=\"sk-toggleable__control sk-hidden--visually\" id=\"sk-estimator-id-1\" type=\"checkbox\" checked><label for=\"sk-estimator-id-1\" class=\"sk-toggleable__label sk-toggleable__label-arrow\">XGBClassifier</label><div class=\"sk-toggleable__content\"><pre>XGBClassifier(base_score=0.5, booster=&#x27;gbtree&#x27;, callbacks=None,\n",
       "              colsample_bylevel=1, colsample_bynode=1, colsample_bytree=1,\n",
       "              early_stopping_rounds=None, enable_categorical=False,\n",
       "              eval_metric=&lt;function mean_absolute_error at 0x17fdd16c0&gt;,\n",
       "              gamma=0, gpu_id=-1, grow_policy=&#x27;depthwise&#x27;, importance_type=None,\n",
       "              interaction_constraints=&#x27;&#x27;, learning_rate=0.01, max_bin=256,\n",
       "              max_cat_to_onehot=4, max_delta_step=0, max_depth=17, max_leaves=0,\n",
       "              min_child_weight=12, missing=nan, monotone_constraints=&#x27;()&#x27;,\n",
       "              n_estimators=2000, n_jobs=0, num_parallel_tree=1,\n",
       "              predictor=&#x27;auto&#x27;, random_state=0, reg_alpha=0, reg_lambda=1, ...)</pre></div></div></div></div></div>"
      ],
      "text/plain": [
       "XGBClassifier(base_score=0.5, booster='gbtree', callbacks=None,\n",
       "              colsample_bylevel=1, colsample_bynode=1, colsample_bytree=1,\n",
       "              early_stopping_rounds=None, enable_categorical=False,\n",
       "              eval_metric=<function mean_absolute_error at 0x17fdd16c0>,\n",
       "              gamma=0, gpu_id=-1, grow_policy='depthwise', importance_type=None,\n",
       "              interaction_constraints='', learning_rate=0.01, max_bin=256,\n",
       "              max_cat_to_onehot=4, max_delta_step=0, max_depth=17, max_leaves=0,\n",
       "              min_child_weight=12, missing=nan, monotone_constraints='()',\n",
       "              n_estimators=2000, n_jobs=0, num_parallel_tree=1,\n",
       "              predictor='auto', random_state=0, reg_alpha=0, reg_lambda=1, ...)"
      ]
     },
     "execution_count": 28,
     "metadata": {},
     "output_type": "execute_result"
    }
   ],
   "source": [
    "xgbc.fit(X_train, y_train)"
   ]
  },
  {
   "cell_type": "code",
   "execution_count": 29,
   "id": "d22137b3",
   "metadata": {},
   "outputs": [],
   "source": [
    "y_pred = xgbc.predict(X_test)"
   ]
  },
  {
   "cell_type": "code",
   "execution_count": 143,
   "id": "3993abc0",
   "metadata": {},
   "outputs": [
    {
     "name": "stdout",
     "output_type": "stream",
     "text": [
      "Accuracy: 0.8485\n",
      "Precision: 0.734982332155477\n",
      "Recall: 0.47706422018348627\n",
      "F1: 0.5785813630041724\n"
     ]
    }
   ],
   "source": [
    "print(\"Accuracy:\",metrics.accuracy_score(y_test, y_pred))\n",
    "print(\"Precision:\",metrics.precision_score(y_test, y_pred))\n",
    "print(\"Recall:\",metrics.recall_score(y_test, y_pred))\n",
    "print(\"F1:\",f1_score(y_test, y_pred))"
   ]
  },
  {
   "cell_type": "code",
   "execution_count": null,
   "id": "99e8f2b2",
   "metadata": {},
   "outputs": [],
   "source": [
    "y_pred[y_pred['']]"
   ]
  },
  {
   "cell_type": "code",
   "execution_count": null,
   "id": "d369209a",
   "metadata": {},
   "outputs": [],
   "source": [
    "df_pred = pd.DataFrame(y_pred, columns=['pred'])\n",
    "df.iloc[df_pred[df_pred['pred'] == 1].iloc]"
   ]
  },
  {
   "cell_type": "code",
   "execution_count": 144,
   "id": "6ca32053",
   "metadata": {},
   "outputs": [
    {
     "data": {
      "image/png": "[encoded data removed]",
      "text/plain": [
       "<Figure size 432x288 with 2 Axes>"
      ]
     },
     "metadata": {
      "needs_background": "light"
     },
     "output_type": "display_data"
    }
   ],
   "source": [
    "cf_matrix = confusion_matrix(y_test, y_pred)\n",
    "cf_matrix\n",
    "\n",
    "ax = sns.heatmap(cf_matrix, annot=True, cmap='Blues', fmt='g')\n",
    "\n",
    "ax.set_title('Seaborn Confusion Matrix with labels\\n\\n');\n",
    "ax.set_xlabel('\\nPredicted Values')\n",
    "ax.set_ylabel('Actual Values ');\n",
    "\n",
    "ax.xaxis.set_ticklabels(['False','True'])\n",
    "ax.yaxis.set_ticklabels(['False','True'])\n",
    "\n",
    "plt.show()"
   ]
  },
  {
   "cell_type": "markdown",
   "id": "ef990c1e",
   "metadata": {},
   "source": [
    "# F1 Depth Optimizer"
   ]
  },
  {
   "cell_type": "code",
   "execution_count": null,
   "id": "f264ce70",
   "metadata": {},
   "outputs": [],
   "source": [
    "best_f1 = 0\n",
    "best_depth = 0\n",
    "\n",
    "for i in range(15,50,2):\n",
    "    xgbc = XGBClassifier(eval_metric=mean_absolute_error,learning_rate =0.01,\n",
    "    n_estimators=2000,\n",
    "    max_depth=i,\n",
    "    min_child_weight=12,\n",
    "    gamma=0,\n",
    "    subsample=0.5,)\n",
    "    xgbc.fit(X_train, y_train)\n",
    "    y_pred = xgbc.predict(X_test)\n",
    "    x = f1_score(y_test, y_pred)\n",
    "    if x > best_f1:\n",
    "        best_f1 = x\n",
    "        best_depth = i\n",
    "print('Best f1:' + str(best_f1) + 'best depth:' + str(best_depth))"
   ]
  },
  {
   "cell_type": "markdown",
   "id": "19766cdd",
   "metadata": {},
   "source": [
    "# XGBC Feature Importance"
   ]
  },
  {
   "cell_type": "code",
   "execution_count": 157,
   "id": "bac831b5",
   "metadata": {},
   "outputs": [
    {
     "data": {
      "image/png": "[encoded data removed]",
      "text/plain": [
       "<Figure size 1120x320 with 1 Axes>"
      ]
     },
     "metadata": {
      "needs_background": "light"
     },
     "output_type": "display_data"
    }
   ],
   "source": [
    "from matplotlib.pyplot import figure\n",
    "figure(figsize=(14, 4), dpi=80)\n",
    "plt.bar(X_train.columns,xgbc.feature_importances_)\n",
    "plt.show()"
   ]
  }
 ],
 "metadata": {
  "kernelspec": {
   "display_name": "Python 3 (ipykernel)",
   "language": "python",
   "name": "python3"
  },
  "language_info": {
   "codemirror_mode": {
    "name": "ipython",
    "version": 3
   },
   "file_extension": ".py",
   "mimetype": "text/x-python",
   "name": "python",
   "nbconvert_exporter": "python",
   "pygments_lexer": "ipython3",
   "version": "3.10.5"
  }
 },
 "nbformat": 4,
 "nbformat_minor": 5
}
